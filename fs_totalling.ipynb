{
  "nbformat": 4,
  "nbformat_minor": 0,
  "metadata": {
    "colab": {
      "provenance": [],
      "include_colab_link": true
    },
    "kernelspec": {
      "name": "python3",
      "display_name": "Python 3"
    },
    "language_info": {
      "name": "python"
    }
  },
  "cells": [
    {
      "cell_type": "markdown",
      "metadata": {
        "id": "view-in-github",
        "colab_type": "text"
      },
      "source": [
        "<a href=\"https://colab.research.google.com/github/RuTiO2le/nitobe_fs/blob/main/fs_totalling.ipynb\" target=\"_parent\"><img src=\"https://colab.research.google.com/assets/colab-badge.svg\" alt=\"Open In Colab\"/></a>"
      ]
    },
    {
      "cell_type": "code",
      "source": [
        "#@title Parameters\n",
        "\n",
        "#@markdown 名簿のスプレッドシートのリンク\n",
        "meibo_path = 'https://docs.google.com/spreadsheets/' #@param {type:\"string\"}\n",
        "#@markdown 集計フォームのスプレッドシートのリンク\n",
        "tot_path = 'https://docs.google.com/spreadsheets/' #@param {type:\"string\"}\n",
        "\n",
        "#@markdown 集計フォームの「発表の内容やしかたが最も良かったと思うゼミを選んでください。」までの質問項目数(2022年と同じなら変更不要)\n",
        "offset = 4 #@param {type:\"integer\"}\n",
        "#@markdown ゼミ数\n",
        "n_semi = 7 #@param {type:\"integer\"}"
      ],
      "metadata": {
        "cellView": "form",
        "id": "1jP2TVEfdiw0"
      },
      "execution_count": null,
      "outputs": []
    },
    {
      "cell_type": "markdown",
      "source": [
        "注1）  \n",
        "去年のスプレッドシートではコード制作者が最初の行に来ているため集計の際は除外したが、この実装では集計するようになっているため、去年のもので追試する場合は注意  \n",
        "注2)  \n",
        "global変数は関数に渡していない  \n",
        "注3)  \n",
        "Googleの利用規約変更などでバグが起きた場合は適宜修正  \n",
        "\n",
        "**あとは以下を実行するだけ** "
      ],
      "metadata": {
        "id": "KAdm2cqx5lWx"
      }
    },
    {
      "cell_type": "markdown",
      "source": [
        " ## Setup"
      ],
      "metadata": {
        "id": "ah5trhxOfSfe"
      }
    },
    {
      "cell_type": "code",
      "source": [
        "from google.colab import drive\n",
        "drive.mount('/content/drive/')\n",
        "\n",
        "from google.colab import auth\n",
        "auth.authenticate_user()\n",
        "\n",
        "import gspread\n",
        "from google.auth import default\n",
        "creds, _ = default()\n",
        "\n",
        "gc = gspread.authorize(creds)\n",
        "\n",
        "!pip install japanize_matplotlib\n",
        "import japanize_matplotlib\n",
        "import matplotlib.pyplot as plt\n",
        "import numpy as np\n",
        "import os\n",
        "from pprint import pprint\n",
        "from typing import Dict, List"
      ],
      "metadata": {
        "colab": {
          "base_uri": "https://localhost:8080/"
        },
        "id": "sL6lu0_v3jD4",
        "outputId": "9172a532-c1d3-4648-ff36-cc889e263fd6"
      },
      "execution_count": null,
      "outputs": [
        {
          "output_type": "stream",
          "name": "stdout",
          "text": [
            "Drive already mounted at /content/drive/; to attempt to forcibly remount, call drive.mount(\"/content/drive/\", force_remount=True).\n",
            "Looking in indexes: https://pypi.org/simple, https://us-python.pkg.dev/colab-wheels/public/simple/\n",
            "Requirement already satisfied: japanize_matplotlib in /usr/local/lib/python3.9/dist-packages (1.1.3)\n",
            "Requirement already satisfied: matplotlib in /usr/local/lib/python3.9/dist-packages (from japanize_matplotlib) (3.7.1)\n",
            "Requirement already satisfied: python-dateutil>=2.7 in /usr/local/lib/python3.9/dist-packages (from matplotlib->japanize_matplotlib) (2.8.2)\n",
            "Requirement already satisfied: packaging>=20.0 in /usr/local/lib/python3.9/dist-packages (from matplotlib->japanize_matplotlib) (23.0)\n",
            "Requirement already satisfied: importlib-resources>=3.2.0 in /usr/local/lib/python3.9/dist-packages (from matplotlib->japanize_matplotlib) (5.12.0)\n",
            "Requirement already satisfied: pillow>=6.2.0 in /usr/local/lib/python3.9/dist-packages (from matplotlib->japanize_matplotlib) (8.4.0)\n",
            "Requirement already satisfied: kiwisolver>=1.0.1 in /usr/local/lib/python3.9/dist-packages (from matplotlib->japanize_matplotlib) (1.4.4)\n",
            "Requirement already satisfied: pyparsing>=2.3.1 in /usr/local/lib/python3.9/dist-packages (from matplotlib->japanize_matplotlib) (3.0.9)\n",
            "Requirement already satisfied: numpy>=1.20 in /usr/local/lib/python3.9/dist-packages (from matplotlib->japanize_matplotlib) (1.22.4)\n",
            "Requirement already satisfied: contourpy>=1.0.1 in /usr/local/lib/python3.9/dist-packages (from matplotlib->japanize_matplotlib) (1.0.7)\n",
            "Requirement already satisfied: cycler>=0.10 in /usr/local/lib/python3.9/dist-packages (from matplotlib->japanize_matplotlib) (0.11.0)\n",
            "Requirement already satisfied: fonttools>=4.22.0 in /usr/local/lib/python3.9/dist-packages (from matplotlib->japanize_matplotlib) (4.39.2)\n",
            "Requirement already satisfied: zipp>=3.1.0 in /usr/local/lib/python3.9/dist-packages (from importlib-resources>=3.2.0->matplotlib->japanize_matplotlib) (3.15.0)\n",
            "Requirement already satisfied: six>=1.5 in /usr/local/lib/python3.9/dist-packages (from python-dateutil>=2.7->matplotlib->japanize_matplotlib) (1.16.0)\n"
          ]
        }
      ]
    },
    {
      "cell_type": "code",
      "source": [
        "def confirm_attemdamce(students: List, list_of_form: List) -> None:\n",
        "    stu_set = set()\n",
        "    for i, st in enumerate(students):\n",
        "        if i==0: continue\n",
        "        stu_set.add(st[0])\n",
        "\n",
        "    attend_stu_set = set()\n",
        "    for i, ast in enumerate(list_of_form):\n",
        "        if i>1: attend_stu_set.add(ast[2])\n",
        "\n",
        "    absent_stu_set = stu_set - attend_stu_set\n",
        "    print(f'学生数: {len(stu_set)}, 出席数: {len(attend_stu_set)}, 欠席数：{len(absent_stu_set)}', end='\\n\\n')\n",
        "\n",
        "    ccm = max(list(map(len, np.array(students)[:,2])))\n",
        "    km  = max(list(map(len, np.array(students)[:,3])))\n",
        "    print('欠席者：', end='\\n\\n')\n",
        "    for st in students:\n",
        "        if st[0] in absent_stu_set:\n",
        "            exec( \"print(f'''{st[0]}　　　　{st[2].replace('　',''):　<%ds}{st[3].replace('　',''):　<%ds}{st[4]}''')\" % (ccm+1, km+1) )"
      ],
      "metadata": {
        "id": "UopAWFgSa4fn"
      },
      "execution_count": null,
      "outputs": []
    },
    {
      "cell_type": "code",
      "source": [
        "def get_semi_dict(semi_list: List) -> Dict:\n",
        "    eval_selects = {}\n",
        "    for semi in semi_list:\n",
        "        exec(f'eval_selects[\"{semi}\"]=[]')\n",
        "    return eval_selects\n",
        "\n",
        "def total_vote(list_of_form: List, mode=\"tot\"):\n",
        "    eval_selects = get_semi_dict(semi_list)\n",
        "    eval_discripts = eval_selects.copy()\n",
        "\n",
        "    vote_total = []\n",
        "    for i,st in enumerate(list_of_form):\n",
        "        if i<1:\n",
        "            continue\n",
        "        bel = st[4]\n",
        "        vote = st[offset + int(bel[0])]\n",
        "        vote_total.append(vote)\n",
        "\n",
        "        snum = int(vote[0])\n",
        "        eval_selects[vote] += [s[0] for s in st[offset+n_semi + snum*2 - 1].split(', ')]\n",
        "        eval_discripts[vote].append( st[offset+n_semi + snum*2] )\n",
        "\n",
        "    if mode==\"tot\":\n",
        "        nov_list = []\n",
        "        for semi in semi_list:\n",
        "            nov = vote_total.count(semi)\n",
        "            nov_list.append(nov)\n",
        "            print(semi, nov)\n",
        "\n",
        "        print()\n",
        "        plt.figure(figsize=(9,5), facecolor=\"w\")\n",
        "        plt.bar(semi_list, nov_list)\n",
        "        plt.savefig(\"totaling.png\", facecolor=\"w\")\n",
        "\n",
        "    else:\n",
        "        return eval_selects"
      ],
      "metadata": {
        "id": "Iapgk6NIhqbC"
      },
      "execution_count": null,
      "outputs": []
    },
    {
      "cell_type": "code",
      "source": [
        "def draw_pie(eval_selects: Dict):\n",
        "    wed = {'alpha': 0.8, 'edgecolor':'white'}\n",
        "    sel_count = get_semi_dict(semi_list)\n",
        "    for k in eval_selects.keys():\n",
        "        _leg = leg.copy()\n",
        "        l = eval_selects[k]\n",
        "        del_idx = []\n",
        "        for i, alp in enumerate(alps):\n",
        "            n = l.count(alp)\n",
        "            if n==0:\n",
        "                del_idx.append(i)\n",
        "            else:\n",
        "                sel_count[k].append(n)\n",
        "                # _leg[i] += f'({n})'\n",
        "        \n",
        "        for i in del_idx[::-1]: del _leg[i]\n",
        "\n",
        "        plt.figure(figsize=(13,7))\n",
        "        plt.title(f'{k} 評価項目の割合', fontsize=20)\n",
        "        plt.pie(sel_count[k], labels=_leg, counterclock=False, startangle=90, wedgeprops=wed)\n",
        "        plt.savefig(f'{k}.png') # Driveに保存したければパスを書き換える"
      ],
      "metadata": {
        "id": "fpM_su2AoAJa"
      },
      "execution_count": null,
      "outputs": []
    },
    {
      "cell_type": "code",
      "source": [
        "def write_comments(list_of_form: List) -> None:\n",
        "    eval_discripts_with_alp = get_semi_dict(semi_list)\n",
        "\n",
        "    for i,st in enumerate(list_of_form):\n",
        "        if i<1:\n",
        "            continue\n",
        "        bel = st[4]\n",
        "        vote = st[offset + int(bel[0])]\n",
        "\n",
        "        snum = int(vote[0])\n",
        "        alp_l = [s[0] for s in st[offset+n_semi + snum*2 - 1].split(', ')]\n",
        "        eval_discripts_with_alp[vote].append( f'[{\", \".join(alp_l)}]\\n{st[offset+n_semi + snum*2]}' )\n",
        "\n",
        "    for k in eval_selects.keys():\n",
        "        f = open(f'{k}.txt', 'w') # Driveに保存したければパスを書き換える\n",
        "        f.write('\\n\\n'.join( eval_discripts_with_alp[k] ))\n",
        "        f.close"
      ],
      "metadata": {
        "id": "ufKojeLa48f2"
      },
      "execution_count": null,
      "outputs": []
    },
    {
      "cell_type": "code",
      "source": [
        "ss_meibo = gc.open_by_url(meibo_path)\n",
        "st_meibo = ss_meibo.get_worksheet(0)\n",
        "students = st_meibo.get_all_values()\n",
        "\n",
        "ss_form = gc.open_by_url(tot_path)\n",
        "st_form = ss_form.get_worksheet(0)\n",
        "list_of_form = st_form.get_all_values()\n",
        "\n",
        "semi_list = []\n",
        "for i in range(n_semi):\n",
        "    idx = list_of_form[0][offset+n_semi + (i+1)*2 - 1].find('の発表')\n",
        "    semi_list.append(f'{i+1}.{list_of_form[0][offset+n_semi + (i+1)*2 - 1][:idx]}')"
      ],
      "metadata": {
        "id": "1OaXt8JBl3ZT"
      },
      "execution_count": null,
      "outputs": []
    },
    {
      "cell_type": "markdown",
      "source": [
        "## 出力"
      ],
      "metadata": {
        "id": "smZEMpdHfchC"
      }
    },
    {
      "cell_type": "code",
      "source": [
        "# 出欠確認\n",
        "confirm_attemdamce(students, list_of_form)"
      ],
      "metadata": {
        "id": "yKMXU_J9clBM"
      },
      "execution_count": null,
      "outputs": []
    },
    {
      "cell_type": "code",
      "source": [
        "# 集計\n",
        "total_vote(list_of_form)"
      ],
      "metadata": {
        "id": "Zsb99HjNm7ix"
      },
      "execution_count": null,
      "outputs": []
    },
    {
      "cell_type": "code",
      "source": [
        "# 円グラフ\n",
        "alps = ['a', 'b', 'c',\n",
        "        'd', 'e', 'f',\n",
        "        'g', 'h', 'i',\n",
        "        'j'] # 変更があれば適宜変える\n",
        "leg = ['明確な根拠が示されていた。', '現地視察で得た経験や考えを活かしていた。', '斬新なアイデアが盛り込まれオリジナリティがあった。',\n",
        "       '理想論にとどまらない現実的かつ具体的な提案があった。', '一緒に取り組みたいと思えるような内容だった。', '友達に紹介したくなるような内容だった。',\n",
        "       '聴衆をしっかりと見て伝えようとしていた。', '論理的な構成だった。', 'スライドにわかりやすく伝える工夫がなされていた。',\n",
        "       '質疑応答で納得できる回答が得られた。'] # 変更があれば適宜変える\n",
        "\n",
        "eval_selects = total_vote(list_of_form, mode=\"o\")\n",
        "draw_pie(eval_selects)"
      ],
      "metadata": {
        "id": "rfcP4u3yqL0L"
      },
      "execution_count": null,
      "outputs": []
    },
    {
      "cell_type": "code",
      "source": [
        "# コメントを.txtで出力\n",
        "# メソッド内でパスを書き換えれば、ドライブに直接書き出すことも可能\n",
        "write_comments(list_of_form)"
      ],
      "metadata": {
        "id": "P-mY4Wce5Lk4"
      },
      "execution_count": null,
      "outputs": []
    }
  ]
}